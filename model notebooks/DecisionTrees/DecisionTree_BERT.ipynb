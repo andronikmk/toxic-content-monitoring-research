{
 "cells": [
  {
   "cell_type": "markdown",
   "metadata": {},
   "source": [
    "# Decision Tree Classifier With BERT\n",
    "\n",
    "**ROC-AUC:** 0.791093\n",
    "**F1-score:** 0.273122"
   ]
  },
  {
   "cell_type": "code",
   "execution_count": 1,
   "metadata": {},
   "outputs": [],
   "source": [
    "import re\n",
    "import string\n",
    "\n",
    "import pandas as pd\n",
    "import numpy as np \n",
    "from sklearn.tree import DecisionTreeClassifier\n",
    "from sklearn.multiclass import OneVsRestClassifier\n",
    "from sklearn.feature_extraction.text import CountVectorizer, TfidfVectorizer"
   ]
  },
  {
   "cell_type": "code",
   "execution_count": 2,
   "metadata": {},
   "outputs": [],
   "source": [
    "df = pd.read_csv('data/train.csv')"
   ]
  },
  {
   "cell_type": "code",
   "execution_count": 3,
   "metadata": {},
   "outputs": [],
   "source": [
    "label_cols = ['toxic', 'severe_toxic', 'obscene', 'threat', 'insult', 'identity_hate']\n",
    "df['none'] = 1-df[label_cols].max(axis=1)"
   ]
  },
  {
   "cell_type": "code",
   "execution_count": 4,
   "metadata": {},
   "outputs": [],
   "source": [
    "x = np.loadtxt('data/toxic_bert_matrix.out', delimiter=',')\n",
    "y = df.iloc[:, 2:8] "
   ]
  },
  {
   "cell_type": "code",
   "execution_count": 11,
   "metadata": {},
   "outputs": [],
   "source": [
    "from sklearn.model_selection import train_test_split\n",
    "X_train, X_test, y_train, y_test = train_test_split(x, y, test_size= 0.2, random_state=13)"
   ]
  },
  {
   "cell_type": "code",
   "execution_count": 12,
   "metadata": {},
   "outputs": [
    {
     "name": "stdout",
     "output_type": "stream",
     "text": [
      "Fitting 3 folds for each of 40 candidates, totalling 120 fits\n"
     ]
    },
    {
     "name": "stderr",
     "output_type": "stream",
     "text": [
      "[Parallel(n_jobs=-1)]: Using backend LokyBackend with 12 concurrent workers.\n",
      "[Parallel(n_jobs=-1)]: Done   1 tasks      | elapsed:   38.8s\n",
      "[Parallel(n_jobs=-1)]: Done   8 tasks      | elapsed:  1.2min\n",
      "[Parallel(n_jobs=-1)]: Done  17 tasks      | elapsed:  2.0min\n",
      "[Parallel(n_jobs=-1)]: Done  26 tasks      | elapsed:  3.6min\n",
      "[Parallel(n_jobs=-1)]: Done  37 tasks      | elapsed: 15.7min\n",
      "[Parallel(n_jobs=-1)]: Done  48 tasks      | elapsed: 21.1min\n",
      "[Parallel(n_jobs=-1)]: Done  61 tasks      | elapsed: 22.9min\n",
      "[Parallel(n_jobs=-1)]: Done  74 tasks      | elapsed: 24.9min\n",
      "[Parallel(n_jobs=-1)]: Done  89 tasks      | elapsed: 37.7min\n",
      "[Parallel(n_jobs=-1)]: Done 110 out of 120 | elapsed: 40.8min remaining:  3.7min\n",
      "[Parallel(n_jobs=-1)]: Done 120 out of 120 | elapsed: 49.5min finished\n"
     ]
    },
    {
     "data": {
      "text/plain": [
       "GridSearchCV(cv=3, error_score=nan,\n",
       "             estimator=Pipeline(memory=None,\n",
       "                                steps=[('onevsrestclassifier',\n",
       "                                        OneVsRestClassifier(estimator=DecisionTreeClassifier(ccp_alpha=0.0,\n",
       "                                                                                             class_weight='balanced',\n",
       "                                                                                             criterion='gini',\n",
       "                                                                                             max_depth=None,\n",
       "                                                                                             max_features=None,\n",
       "                                                                                             max_leaf_nodes=None,\n",
       "                                                                                             min_impurity_decrease=0.0,\n",
       "                                                                                             min_impurity_split=None,\n",
       "                                                                                             min_samples_leaf=1,\n",
       "                                                                                             min_samples_split=2,\n",
       "                                                                                             min_w...\n",
       "                                                            n_jobs=None))],\n",
       "                                verbose=False),\n",
       "             iid='deprecated', n_jobs=-1,\n",
       "             param_grid={'onevsrestclassifier__estimator__criterion': ['gini',\n",
       "                                                                       'entropy'],\n",
       "                         'onevsrestclassifier__estimator__max_depth': [None, 10,\n",
       "                                                                       50, 100,\n",
       "                                                                       250],\n",
       "                         'onevsrestclassifier__estimator__max_features': [None,\n",
       "                                                                          'auto',\n",
       "                                                                          'sqrt',\n",
       "                                                                          'log2']},\n",
       "             pre_dispatch='2*n_jobs', refit=True, return_train_score=False,\n",
       "             scoring='roc_auc', verbose=10)"
      ]
     },
     "execution_count": 12,
     "metadata": {},
     "output_type": "execute_result"
    }
   ],
   "source": [
    "from sklearn.model_selection import GridSearchCV\n",
    "from sklearn.pipeline import make_pipeline\n",
    "pipe = make_pipeline(OneVsRestClassifier(DecisionTreeClassifier(class_weight='balanced')))\n",
    "param_grid = {\n",
    "              'onevsrestclassifier__estimator__criterion': ['gini', 'entropy'],\n",
    "              'onevsrestclassifier__estimator__max_features': [None, 'auto', 'sqrt', 'log2'],\n",
    "              'onevsrestclassifier__estimator__max_depth': [None, 10, 50, 100, 250],\n",
    "             } \n",
    "grid = GridSearchCV(pipe, param_grid, cv=3, scoring='roc_auc', verbose=10, n_jobs=-1)\n",
    "\n",
    "grid.fit(X_train, y_train)"
   ]
  },
  {
   "cell_type": "code",
   "execution_count": 13,
   "metadata": {},
   "outputs": [
    {
     "data": {
      "text/plain": [
       "0.7910932057406367"
      ]
     },
     "execution_count": 13,
     "metadata": {},
     "output_type": "execute_result"
    }
   ],
   "source": [
    "grid.score(X_test, y_test)"
   ]
  },
  {
   "cell_type": "code",
   "execution_count": 14,
   "metadata": {},
   "outputs": [],
   "source": [
    "from sklearn.metrics import f1_score, recall_score \n",
    "\n",
    "y_pred = grid.predict(X_test)"
   ]
  },
  {
   "cell_type": "code",
   "execution_count": 17,
   "metadata": {},
   "outputs": [
    {
     "data": {
      "text/plain": [
       "0.2731222490416016"
      ]
     },
     "execution_count": 17,
     "metadata": {},
     "output_type": "execute_result"
    }
   ],
   "source": [
    "f1_score(y_test, y_pred, average = 'micro')"
   ]
  },
  {
   "cell_type": "code",
   "execution_count": 18,
   "metadata": {},
   "outputs": [
    {
     "data": {
      "text/plain": [
       "{'onevsrestclassifier__estimator__criterion': 'entropy',\n",
       " 'onevsrestclassifier__estimator__max_depth': 10,\n",
       " 'onevsrestclassifier__estimator__max_features': None}"
      ]
     },
     "execution_count": 18,
     "metadata": {},
     "output_type": "execute_result"
    }
   ],
   "source": [
    "grid.best_params_"
   ]
  }
 ],
 "metadata": {
  "kernelspec": {
   "display_name": "Python 3",
   "language": "python",
   "name": "python3"
  },
  "language_info": {
   "codemirror_mode": {
    "name": "ipython",
    "version": 3
   },
   "file_extension": ".py",
   "mimetype": "text/x-python",
   "name": "python",
   "nbconvert_exporter": "python",
   "pygments_lexer": "ipython3",
   "version": "3.7.4"
  }
 },
 "nbformat": 4,
 "nbformat_minor": 4
}
