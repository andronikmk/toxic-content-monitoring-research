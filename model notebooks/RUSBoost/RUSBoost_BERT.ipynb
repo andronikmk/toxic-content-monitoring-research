{
 "cells": [
  {
   "cell_type": "markdown",
   "metadata": {},
   "source": [
    "# RUSBOOST Classifier With BERT\n",
    "\n",
    "**ROC-AUC:** 0.95087\n",
    "**F1-score:** 0.47602"
   ]
  },
  {
   "cell_type": "code",
   "execution_count": 10,
   "metadata": {},
   "outputs": [],
   "source": [
    "import pandas as pd\n",
    "import numpy as np \n",
    "from imblearn.ensemble import RUSBoostClassifier\n",
    "from sklearn.multiclass import OneVsRestClassifier\n",
    "from sklearn.feature_extraction.text import CountVectorizer, TfidfVectorizer"
   ]
  },
  {
   "cell_type": "code",
   "execution_count": 11,
   "metadata": {},
   "outputs": [],
   "source": [
    "df = pd.read_csv('data/train.csv')"
   ]
  },
  {
   "cell_type": "code",
   "execution_count": 12,
   "metadata": {},
   "outputs": [],
   "source": [
    "label_cols = ['toxic', 'severe_toxic', 'obscene', 'threat', 'insult', 'identity_hate']\n",
    "df['none'] = 1-df[label_cols].max(axis=1)"
   ]
  },
  {
   "cell_type": "code",
   "execution_count": 13,
   "metadata": {},
   "outputs": [],
   "source": [
    "x = np.loadtxt('data/toxic_bert_matrix.out', delimiter=',')\n",
    "y = df.iloc[:, 2:8] "
   ]
  },
  {
   "cell_type": "code",
   "execution_count": 14,
   "metadata": {},
   "outputs": [],
   "source": [
    "from sklearn.model_selection import train_test_split\n",
    "X_train, X_test, y_train, y_test = train_test_split(x, y, test_size= 0.2, random_state=13)"
   ]
  },
  {
   "cell_type": "code",
   "execution_count": 15,
   "metadata": {},
   "outputs": [
    {
     "name": "stdout",
     "output_type": "stream",
     "text": [
      "Fitting 3 folds for each of 96 candidates, totalling 288 fits\n"
     ]
    },
    {
     "name": "stderr",
     "output_type": "stream",
     "text": [
      "[Parallel(n_jobs=-2)]: Using backend LokyBackend with 11 concurrent workers.\n",
      "[Parallel(n_jobs=-2)]: Done   3 tasks      | elapsed:  1.6min\n",
      "[Parallel(n_jobs=-2)]: Done  10 tasks      | elapsed:  2.8min\n",
      "[Parallel(n_jobs=-2)]: Done  19 tasks      | elapsed:  5.3min\n",
      "[Parallel(n_jobs=-2)]: Done  28 tasks      | elapsed: 17.3min\n",
      "[Parallel(n_jobs=-2)]: Done  39 tasks      | elapsed: 39.6min\n",
      "[Parallel(n_jobs=-2)]: Done  50 tasks      | elapsed: 82.1min\n",
      "[Parallel(n_jobs=-2)]: Done  63 tasks      | elapsed: 158.5min\n",
      "[Parallel(n_jobs=-2)]: Done  76 tasks      | elapsed: 181.3min\n",
      "[Parallel(n_jobs=-2)]: Done  91 tasks      | elapsed: 274.4min\n",
      "[Parallel(n_jobs=-2)]: Done 106 tasks      | elapsed: 400.2min\n",
      "[Parallel(n_jobs=-2)]: Done 123 tasks      | elapsed: 421.5min\n",
      "[Parallel(n_jobs=-2)]: Done 140 tasks      | elapsed: 544.5min\n",
      "[Parallel(n_jobs=-2)]: Done 159 tasks      | elapsed: 654.5min\n",
      "[Parallel(n_jobs=-2)]: Done 178 tasks      | elapsed: 768.2min\n",
      "[Parallel(n_jobs=-2)]: Done 199 tasks      | elapsed: 873.3min\n",
      "[Parallel(n_jobs=-2)]: Done 220 tasks      | elapsed: 977.1min\n",
      "[Parallel(n_jobs=-2)]: Done 243 tasks      | elapsed: 1138.3min\n",
      "[Parallel(n_jobs=-2)]: Done 266 tasks      | elapsed: 1247.3min\n",
      "[Parallel(n_jobs=-2)]: Done 288 out of 288 | elapsed: 1560.2min finished\n"
     ]
    },
    {
     "data": {
      "text/plain": [
       "GridSearchCV(cv=3, error_score=nan,\n",
       "             estimator=Pipeline(memory=None,\n",
       "                                steps=[('onevsrestclassifier',\n",
       "                                        OneVsRestClassifier(estimator=RUSBoostClassifier(algorithm='SAMME.R',\n",
       "                                                                                         base_estimator=None,\n",
       "                                                                                         learning_rate=1.0,\n",
       "                                                                                         n_estimators=50,\n",
       "                                                                                         random_state=None,\n",
       "                                                                                         replacement=False,\n",
       "                                                                                         sampling_strategy='auto'),\n",
       "                                                            n_jobs=None))],\n",
       "                                verbose=False),\n",
       "             iid='deprecated', n_jobs=-2,\n",
       "             param_grid={'...r__algorithm': ['SAMME',\n",
       "                                                                       'SAMME.R'],\n",
       "                         'onevsrestclassifier__estimator__learning_rate': [0.25,\n",
       "                                                                           0.5,\n",
       "                                                                           0.75,\n",
       "                                                                           1],\n",
       "                         'onevsrestclassifier__estimator__n_estimators': [10,\n",
       "                                                                          50,\n",
       "                                                                          100,\n",
       "                                                                          250],\n",
       "                         'onevsrestclassifier__estimator__sampling_strategy': ['majority',\n",
       "                                                                               'not '\n",
       "                                                                               'minority',\n",
       "                                                                               'not '\n",
       "                                                                               'majority']},\n",
       "             pre_dispatch='2*n_jobs', refit=True, return_train_score=False,\n",
       "             scoring='roc_auc', verbose=10)"
      ]
     },
     "execution_count": 15,
     "metadata": {},
     "output_type": "execute_result"
    }
   ],
   "source": [
    "from sklearn.model_selection import GridSearchCV\n",
    "from sklearn.pipeline import make_pipeline\n",
    "pipe = make_pipeline(OneVsRestClassifier(RUSBoostClassifier()))\n",
    "param_grid = {\n",
    "              'onevsrestclassifier__estimator__algorithm': ['SAMME', 'SAMME.R'],\n",
    "              'onevsrestclassifier__estimator__sampling_strategy': ['majority', 'not minority', 'not majority'],\n",
    "              'onevsrestclassifier__estimator__n_estimators': [10, 50, 100, 250],\n",
    "              'onevsrestclassifier__estimator__learning_rate': [0.25, 0.5, 0.75, 1]\n",
    "             } \n",
    "grid = GridSearchCV(pipe, param_grid, cv=3, scoring='roc_auc', verbose=10, n_jobs=-2)\n",
    "\n",
    "grid.fit(X_train, y_train)"
   ]
  },
  {
   "cell_type": "code",
   "execution_count": 16,
   "metadata": {},
   "outputs": [
    {
     "data": {
      "text/plain": [
       "{'onevsrestclassifier__estimator__algorithm': 'SAMME.R',\n",
       " 'onevsrestclassifier__estimator__learning_rate': 0.25,\n",
       " 'onevsrestclassifier__estimator__n_estimators': 250,\n",
       " 'onevsrestclassifier__estimator__sampling_strategy': 'majority'}"
      ]
     },
     "execution_count": 16,
     "metadata": {},
     "output_type": "execute_result"
    }
   ],
   "source": [
    "grid.best_params_"
   ]
  },
  {
   "cell_type": "code",
   "execution_count": 17,
   "metadata": {},
   "outputs": [
    {
     "data": {
      "text/plain": [
       "0.9508725975441016"
      ]
     },
     "execution_count": 17,
     "metadata": {},
     "output_type": "execute_result"
    }
   ],
   "source": [
    "grid.score(X_test, y_test)"
   ]
  },
  {
   "cell_type": "code",
   "execution_count": 18,
   "metadata": {},
   "outputs": [],
   "source": [
    "from sklearn.metrics import f1_score, recall_score \n",
    "\n",
    "y_pred = grid.predict(X_test)"
   ]
  },
  {
   "cell_type": "code",
   "execution_count": 23,
   "metadata": {},
   "outputs": [
    {
     "data": {
      "text/plain": [
       "0.47602045198053483"
      ]
     },
     "execution_count": 23,
     "metadata": {},
     "output_type": "execute_result"
    }
   ],
   "source": [
    "f1_score(y_test, y_pred, average = 'weighted')"
   ]
  },
  {
   "cell_type": "code",
   "execution_count": null,
   "metadata": {},
   "outputs": [],
   "source": []
  }
 ],
 "metadata": {
  "kernelspec": {
   "display_name": "Python (Lab21)",
   "language": "python",
   "name": "lab21"
  },
  "language_info": {
   "codemirror_mode": {
    "name": "ipython",
    "version": 3
   },
   "file_extension": ".py",
   "mimetype": "text/x-python",
   "name": "python",
   "nbconvert_exporter": "python",
   "pygments_lexer": "ipython3",
   "version": "3.7.6"
  }
 },
 "nbformat": 4,
 "nbformat_minor": 4
}
