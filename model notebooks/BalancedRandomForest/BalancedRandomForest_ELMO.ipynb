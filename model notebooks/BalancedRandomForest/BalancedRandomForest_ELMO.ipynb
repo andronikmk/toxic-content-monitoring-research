{
 "cells": [
  {
   "cell_type": "markdown",
   "metadata": {},
   "source": [
    "# Balanced Random Forest Classifier With ELMO\n",
    "\n",
    "**ROC-AUC:** 0.83428\n",
    "**F1 Score:** 0.174638"
   ]
  },
  {
   "cell_type": "code",
   "execution_count": 1,
   "metadata": {
    "colab": {},
    "colab_type": "code",
    "id": "xiAHWkGeBFLc"
   },
   "outputs": [
    {
     "name": "stderr",
     "output_type": "stream",
     "text": [
      "Using TensorFlow backend.\n"
     ]
    }
   ],
   "source": [
    "import pandas as pd\n",
    "import numpy as np\n",
    "\n",
    "from sklearn.pipeline import make_pipeline\n",
    "from sklearn import metrics\n",
    "from imblearn.ensemble import BalancedRandomForestClassifier\n",
    "from sklearn.model_selection import GridSearchCV \n",
    "from sklearn.multiclass import OneVsRestClassifier\n",
    "from sklearn.model_selection import train_test_split"
   ]
  },
  {
   "cell_type": "code",
   "execution_count": 2,
   "metadata": {
    "colab": {},
    "colab_type": "code",
    "id": "Vn4g_5Q8LQc1"
   },
   "outputs": [],
   "source": [
    "x = np.loadtxt('data/toxic_elmo_matrix.out', delimiter=',')\n",
    "df = pd.read_csv('data/toxic-train-clean.csv')\n",
    "y = df.iloc[:, 2:8]"
   ]
  },
  {
   "cell_type": "code",
   "execution_count": 3,
   "metadata": {
    "colab": {},
    "colab_type": "code",
    "id": "rwEEFxmKNLYr"
   },
   "outputs": [],
   "source": [
    "X_train, X_test, y_train, y_test = train_test_split(x, y, test_size=.2)"
   ]
  },
  {
   "cell_type": "code",
   "execution_count": 4,
   "metadata": {
    "colab": {
     "base_uri": "https://localhost:8080/",
     "height": 34
    },
    "colab_type": "code",
    "id": "U6uBFE5JSLhc",
    "outputId": "04c4822d-8752-4829-8bcc-401e5c48c50a"
   },
   "outputs": [
    {
     "data": {
      "text/plain": [
       "((127656, 6), (127656, 128), (31915, 6), (31915, 128))"
      ]
     },
     "execution_count": 4,
     "metadata": {},
     "output_type": "execute_result"
    }
   ],
   "source": [
    "y_train.shape, X_train.shape, y_test.shape, X_test.shape"
   ]
  },
  {
   "cell_type": "code",
   "execution_count": 6,
   "metadata": {
    "colab": {
     "base_uri": "https://localhost:8080/",
     "height": 54
    },
    "colab_type": "code",
    "id": "nTagDk37Z62j",
    "outputId": "f82375be-9753-4dc8-dbef-7d81aec873e6"
   },
   "outputs": [
    {
     "data": {
      "text/plain": [
       "dict_keys(['cv', 'error_score', 'estimator__memory', 'estimator__steps', 'estimator__verbose', 'estimator__onevsrestclassifier', 'estimator__onevsrestclassifier__estimator__bootstrap', 'estimator__onevsrestclassifier__estimator__ccp_alpha', 'estimator__onevsrestclassifier__estimator__class_weight', 'estimator__onevsrestclassifier__estimator__criterion', 'estimator__onevsrestclassifier__estimator__max_depth', 'estimator__onevsrestclassifier__estimator__max_features', 'estimator__onevsrestclassifier__estimator__max_leaf_nodes', 'estimator__onevsrestclassifier__estimator__max_samples', 'estimator__onevsrestclassifier__estimator__min_impurity_decrease', 'estimator__onevsrestclassifier__estimator__min_samples_leaf', 'estimator__onevsrestclassifier__estimator__min_samples_split', 'estimator__onevsrestclassifier__estimator__min_weight_fraction_leaf', 'estimator__onevsrestclassifier__estimator__n_estimators', 'estimator__onevsrestclassifier__estimator__n_jobs', 'estimator__onevsrestclassifier__estimator__oob_score', 'estimator__onevsrestclassifier__estimator__random_state', 'estimator__onevsrestclassifier__estimator__replacement', 'estimator__onevsrestclassifier__estimator__sampling_strategy', 'estimator__onevsrestclassifier__estimator__verbose', 'estimator__onevsrestclassifier__estimator__warm_start', 'estimator__onevsrestclassifier__estimator', 'estimator__onevsrestclassifier__n_jobs', 'estimator', 'iid', 'n_jobs', 'param_grid', 'pre_dispatch', 'refit', 'return_train_score', 'scoring', 'verbose'])"
      ]
     },
     "execution_count": 6,
     "metadata": {},
     "output_type": "execute_result"
    }
   ],
   "source": [
    "# with gridsearch \n",
    "pipe = make_pipeline(OneVsRestClassifier(BalancedRandomForestClassifier()))\n",
    "\n",
    "param_grid = {\n",
    "              'onevsrestclassifier__estimator__class_weight' : ['balanced_subsample',\n",
    "                                                                'balanced'],\n",
    "              'onevsrestclassifier__estimator__max_depth': [25, 50, 75],\n",
    "              'onevsrestclassifier__estimator__max_leaf_nodes' : [5, 10, 15],\n",
    "              'onevsrestclassifier__estimator__criterion' : ['entropy', 'gini'],\n",
    "              'onevsrestclassifier__estimator__sampling_strategy' : ['not majority',\n",
    "                                                                    'all']\n",
    "\n",
    "              }\n",
    "\n",
    "grid = GridSearchCV(pipe, param_grid, cv=3, scoring='roc_auc', n_jobs=-1, verbose=3)\n",
    "BalancedRandomForestClassifier.get_params(grid).keys()"
   ]
  },
  {
   "cell_type": "code",
   "execution_count": 7,
   "metadata": {
    "colab": {
     "base_uri": "https://localhost:8080/",
     "height": 480
    },
    "colab_type": "code",
    "id": "cbsJjyed2n_l",
    "outputId": "bf94f23b-916d-4000-bb8b-83bd0c1c4127"
   },
   "outputs": [
    {
     "name": "stdout",
     "output_type": "stream",
     "text": [
      "Fitting 3 folds for each of 72 candidates, totalling 216 fits\n"
     ]
    },
    {
     "name": "stderr",
     "output_type": "stream",
     "text": [
      "[Parallel(n_jobs=-1)]: Using backend LokyBackend with 12 concurrent workers.\n",
      "[Parallel(n_jobs=-1)]: Done   8 tasks      | elapsed:  2.1min\n",
      "[Parallel(n_jobs=-1)]: Done 104 tasks      | elapsed: 37.8min\n",
      "[Parallel(n_jobs=-1)]: Done 216 out of 216 | elapsed: 77.0min finished\n"
     ]
    }
   ],
   "source": [
    "grid2 = grid.fit(X_train, y_train)"
   ]
  },
  {
   "cell_type": "code",
   "execution_count": 8,
   "metadata": {
    "colab": {},
    "colab_type": "code",
    "id": "JRk0Ovfi36Oh"
   },
   "outputs": [
    {
     "data": {
      "text/plain": [
       "{'onevsrestclassifier__estimator__class_weight': 'balanced_subsample',\n",
       " 'onevsrestclassifier__estimator__criterion': 'entropy',\n",
       " 'onevsrestclassifier__estimator__max_depth': 50,\n",
       " 'onevsrestclassifier__estimator__max_leaf_nodes': 15,\n",
       " 'onevsrestclassifier__estimator__sampling_strategy': 'all'}"
      ]
     },
     "execution_count": 8,
     "metadata": {},
     "output_type": "execute_result"
    }
   ],
   "source": [
    "grid2.best_params_"
   ]
  },
  {
   "cell_type": "code",
   "execution_count": 9,
   "metadata": {},
   "outputs": [
    {
     "data": {
      "text/plain": [
       "0.8342757395901627"
      ]
     },
     "execution_count": 9,
     "metadata": {},
     "output_type": "execute_result"
    }
   ],
   "source": [
    "grid.score(X_test, y_test)"
   ]
  },
  {
   "cell_type": "code",
   "execution_count": 10,
   "metadata": {},
   "outputs": [],
   "source": [
    "from sklearn.metrics import f1_score, recall_score \n",
    "\n",
    "y_pred = grid.predict(X_test)"
   ]
  },
  {
   "cell_type": "code",
   "execution_count": 11,
   "metadata": {},
   "outputs": [
    {
     "data": {
      "text/plain": [
       "0.17463822270534682"
      ]
     },
     "execution_count": 11,
     "metadata": {},
     "output_type": "execute_result"
    }
   ],
   "source": [
    "f1_score(y_test, y_pred, average = 'micro')"
   ]
  },
  {
   "cell_type": "code",
   "execution_count": null,
   "metadata": {},
   "outputs": [],
   "source": []
  }
 ],
 "metadata": {
  "colab": {
   "name": "Untitled3.ipynb",
   "provenance": []
  },
  "kernelspec": {
   "display_name": "Python (Lab21)",
   "language": "python",
   "name": "lab21"
  },
  "language_info": {
   "codemirror_mode": {
    "name": "ipython",
    "version": 3
   },
   "file_extension": ".py",
   "mimetype": "text/x-python",
   "name": "python",
   "nbconvert_exporter": "python",
   "pygments_lexer": "ipython3",
   "version": "3.7.6"
  }
 },
 "nbformat": 4,
 "nbformat_minor": 4
}
