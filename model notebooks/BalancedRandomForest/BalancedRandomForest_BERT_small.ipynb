{
 "cells": [
  {
   "cell_type": "markdown",
   "metadata": {},
   "source": [
    "# Balanced Random Forest Classifier With small BERT\n",
    "\n",
    "**ROC-AUC:** 0.90232\n",
    "**F1 Score:** 0.36099"
   ]
  },
  {
   "cell_type": "code",
   "execution_count": 1,
   "metadata": {},
   "outputs": [
    {
     "name": "stderr",
     "output_type": "stream",
     "text": [
      "Using TensorFlow backend.\n"
     ]
    }
   ],
   "source": [
    "import pandas as pd\n",
    "import numpy as np \n",
    "from imblearn.ensemble import BalancedRandomForestClassifier\n",
    "from sklearn.multiclass import OneVsRestClassifier\n",
    "from sklearn.feature_extraction.text import CountVectorizer, TfidfVectorizer"
   ]
  },
  {
   "cell_type": "code",
   "execution_count": 2,
   "metadata": {},
   "outputs": [],
   "source": [
    "df = pd.read_csv('data/toxic-train-clean-small.csv')"
   ]
  },
  {
   "cell_type": "code",
   "execution_count": 3,
   "metadata": {},
   "outputs": [],
   "source": [
    "label_cols = ['toxic', 'severe_toxic', 'obscene', 'threat', 'insult', 'identity_hate']\n",
    "df['none'] = 1-df[label_cols].max(axis=1)"
   ]
  },
  {
   "cell_type": "code",
   "execution_count": 4,
   "metadata": {},
   "outputs": [],
   "source": [
    "x = np.loadtxt('data/toxic_bert_matrix_small.out', delimiter=',')\n",
    "y = df.iloc[:, 2:8] "
   ]
  },
  {
   "cell_type": "code",
   "execution_count": 5,
   "metadata": {},
   "outputs": [],
   "source": [
    "from sklearn.model_selection import train_test_split\n",
    "X_train, X_test, y_train, y_test = train_test_split(x, y, test_size= 0.2, random_state=13)"
   ]
  },
  {
   "cell_type": "code",
   "execution_count": 6,
   "metadata": {},
   "outputs": [
    {
     "name": "stdout",
     "output_type": "stream",
     "text": [
      "Fitting 3 folds for each of 72 candidates, totalling 216 fits\n"
     ]
    },
    {
     "name": "stderr",
     "output_type": "stream",
     "text": [
      "[Parallel(n_jobs=-2)]: Using backend LokyBackend with 11 concurrent workers.\n",
      "[Parallel(n_jobs=-2)]: Done   3 tasks      | elapsed:  1.7min\n",
      "[Parallel(n_jobs=-2)]: Done  10 tasks      | elapsed: 15.1min\n",
      "[Parallel(n_jobs=-2)]: Done  19 tasks      | elapsed: 20.1min\n",
      "[Parallel(n_jobs=-2)]: Done  28 tasks      | elapsed: 24.7min\n",
      "[Parallel(n_jobs=-2)]: Done  39 tasks      | elapsed: 39.8min\n",
      "[Parallel(n_jobs=-2)]: Done  50 tasks      | elapsed: 45.3min\n",
      "[Parallel(n_jobs=-2)]: Done  63 tasks      | elapsed: 58.8min\n",
      "[Parallel(n_jobs=-2)]: Done  76 tasks      | elapsed: 70.2min\n",
      "[Parallel(n_jobs=-2)]: Done  91 tasks      | elapsed: 79.8min\n",
      "[Parallel(n_jobs=-2)]: Done 106 tasks      | elapsed: 88.7min\n",
      "[Parallel(n_jobs=-2)]: Done 123 tasks      | elapsed: 103.8min\n",
      "[Parallel(n_jobs=-2)]: Done 140 tasks      | elapsed: 118.5min\n",
      "[Parallel(n_jobs=-2)]: Done 159 tasks      | elapsed: 134.8min\n",
      "[Parallel(n_jobs=-2)]: Done 178 tasks      | elapsed: 148.8min\n",
      "[Parallel(n_jobs=-2)]: Done 216 out of 216 | elapsed: 173.4min finished\n"
     ]
    },
    {
     "data": {
      "text/plain": [
       "GridSearchCV(cv=3, error_score=nan,\n",
       "             estimator=Pipeline(memory=None,\n",
       "                                steps=[('onevsrestclassifier',\n",
       "                                        OneVsRestClassifier(estimator=BalancedRandomForestClassifier(bootstrap=True,\n",
       "                                                                                                     ccp_alpha=0.0,\n",
       "                                                                                                     class_weight=None,\n",
       "                                                                                                     criterion='gini',\n",
       "                                                                                                     max_depth=None,\n",
       "                                                                                                     max_features='auto',\n",
       "                                                                                                     max_leaf_nodes=None,\n",
       "                                                                                                     max_samples=None,\n",
       "                                                                                                     min_impurity_decrease=0.0,\n",
       "                                                                                                     min_samples_leaf=2,\n",
       "                                                                                                     min_samples_s...\n",
       "                                                                          'balanced'],\n",
       "                         'onevsrestclassifier__estimator__criterion': ['entropy',\n",
       "                                                                       'gini'],\n",
       "                         'onevsrestclassifier__estimator__max_depth': [25, 50,\n",
       "                                                                       75],\n",
       "                         'onevsrestclassifier__estimator__max_leaf_nodes': [5,\n",
       "                                                                            10,\n",
       "                                                                            15],\n",
       "                         'onevsrestclassifier__estimator__sampling_strategy': ['not '\n",
       "                                                                               'majority',\n",
       "                                                                               'all']},\n",
       "             pre_dispatch='2*n_jobs', refit=True, return_train_score=False,\n",
       "             scoring='roc_auc', verbose=10)"
      ]
     },
     "execution_count": 6,
     "metadata": {},
     "output_type": "execute_result"
    }
   ],
   "source": [
    "from sklearn.model_selection import GridSearchCV\n",
    "from sklearn.pipeline import make_pipeline\n",
    "pipe = make_pipeline(OneVsRestClassifier(BalancedRandomForestClassifier()))\n",
    "param_grid = {\n",
    "              'onevsrestclassifier__estimator__class_weight' : ['balanced_subsample',\n",
    "                                                                'balanced'],\n",
    "              'onevsrestclassifier__estimator__max_depth': [25, 50, 75],\n",
    "              'onevsrestclassifier__estimator__max_leaf_nodes' : [5, 10, 15],\n",
    "              'onevsrestclassifier__estimator__criterion' : ['entropy', 'gini'],\n",
    "              'onevsrestclassifier__estimator__sampling_strategy' : ['not majority',\n",
    "                                                                    'all']\n",
    "\n",
    "              }\n",
    "grid = GridSearchCV(pipe, param_grid, cv=3, scoring='roc_auc', verbose=10, n_jobs=-2)\n",
    "\n",
    "grid.fit(X_train, y_train)"
   ]
  },
  {
   "cell_type": "code",
   "execution_count": 7,
   "metadata": {},
   "outputs": [
    {
     "data": {
      "text/plain": [
       "{'onevsrestclassifier__estimator__class_weight': 'balanced_subsample',\n",
       " 'onevsrestclassifier__estimator__criterion': 'entropy',\n",
       " 'onevsrestclassifier__estimator__max_depth': 25,\n",
       " 'onevsrestclassifier__estimator__max_leaf_nodes': 15,\n",
       " 'onevsrestclassifier__estimator__sampling_strategy': 'all'}"
      ]
     },
     "execution_count": 7,
     "metadata": {},
     "output_type": "execute_result"
    }
   ],
   "source": [
    "grid.best_params_"
   ]
  },
  {
   "cell_type": "code",
   "execution_count": 8,
   "metadata": {},
   "outputs": [
    {
     "data": {
      "text/plain": [
       "0.9023190588239003"
      ]
     },
     "execution_count": 8,
     "metadata": {},
     "output_type": "execute_result"
    }
   ],
   "source": [
    "grid.score(X_test, y_test)"
   ]
  },
  {
   "cell_type": "code",
   "execution_count": 9,
   "metadata": {},
   "outputs": [],
   "source": [
    "from sklearn.metrics import f1_score, recall_score \n",
    "\n",
    "y_pred = grid.predict(X_test)"
   ]
  },
  {
   "cell_type": "code",
   "execution_count": 10,
   "metadata": {},
   "outputs": [
    {
     "data": {
      "text/plain": [
       "0.36098790893954374"
      ]
     },
     "execution_count": 10,
     "metadata": {},
     "output_type": "execute_result"
    }
   ],
   "source": [
    "f1_score(y_test, y_pred, average = 'weighted')"
   ]
  },
  {
   "cell_type": "code",
   "execution_count": null,
   "metadata": {},
   "outputs": [],
   "source": []
  }
 ],
 "metadata": {
  "kernelspec": {
   "display_name": "Python (Lab21)",
   "language": "python",
   "name": "lab21"
  },
  "language_info": {
   "codemirror_mode": {
    "name": "ipython",
    "version": 3
   },
   "file_extension": ".py",
   "mimetype": "text/x-python",
   "name": "python",
   "nbconvert_exporter": "python",
   "pygments_lexer": "ipython3",
   "version": "3.7.6"
  }
 },
 "nbformat": 4,
 "nbformat_minor": 4
}
