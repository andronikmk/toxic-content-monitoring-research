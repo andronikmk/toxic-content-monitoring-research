{
 "cells": [
  {
   "cell_type": "markdown",
   "metadata": {},
   "source": [
    "# Balanced Random Forest Classifier With TF-IDF\n",
    "\n",
    "**ROC-AUC:** 0.94207\n",
    "**F1-score:** 0.28251"
   ]
  },
  {
   "cell_type": "code",
   "execution_count": 6,
   "metadata": {
    "colab": {},
    "colab_type": "code",
    "id": "1WOHDm1EYpD7"
   },
   "outputs": [],
   "source": [
    "import pandas as pd\n",
    "import numpy as np\n",
    "\n",
    "\n",
    "from sklearn.pipeline import make_pipeline\n",
    "from sklearn import metrics\n",
    "from imblearn.ensemble import BalancedRandomForestClassifier\n",
    "from sklearn.model_selection import GridSearchCV \n",
    "from sklearn.multiclass import OneVsRestClassifier\n",
    "from sklearn.model_selection import train_test_split\n",
    "from sklearn.feature_extraction.text import TfidfVectorizer"
   ]
  },
  {
   "cell_type": "code",
   "execution_count": 3,
   "metadata": {
    "colab": {},
    "colab_type": "code",
    "id": "ckwM83Aoad29"
   },
   "outputs": [],
   "source": [
    "df = pd.read_csv('data/toxic-train-clean.csv')\n",
    "y = df.iloc[:, 2:8]\n",
    "X = df['comment_text']"
   ]
  },
  {
   "cell_type": "code",
   "execution_count": 4,
   "metadata": {
    "colab": {},
    "colab_type": "code",
    "id": "t1FT8L6zakai"
   },
   "outputs": [],
   "source": [
    "X_train, X_test, y_train, y_test = train_test_split(X, y, test_size=.2, random_state=42)"
   ]
  },
  {
   "cell_type": "code",
   "execution_count": 7,
   "metadata": {
    "colab": {
     "base_uri": "https://localhost:8080/",
     "height": 153
    },
    "colab_type": "code",
    "id": "b2gphYdObpJR",
    "outputId": "cfaa3418-6cf8-4262-b617-0c62614a1899"
   },
   "outputs": [
    {
     "data": {
      "text/plain": [
       "dict_keys(['cv', 'error_score', 'estimator__memory', 'estimator__steps', 'estimator__verbose', 'estimator__tfidfvectorizer', 'estimator__onevsrestclassifier', 'estimator__tfidfvectorizer__analyzer', 'estimator__tfidfvectorizer__binary', 'estimator__tfidfvectorizer__decode_error', 'estimator__tfidfvectorizer__dtype', 'estimator__tfidfvectorizer__encoding', 'estimator__tfidfvectorizer__input', 'estimator__tfidfvectorizer__lowercase', 'estimator__tfidfvectorizer__max_df', 'estimator__tfidfvectorizer__max_features', 'estimator__tfidfvectorizer__min_df', 'estimator__tfidfvectorizer__ngram_range', 'estimator__tfidfvectorizer__norm', 'estimator__tfidfvectorizer__preprocessor', 'estimator__tfidfvectorizer__smooth_idf', 'estimator__tfidfvectorizer__stop_words', 'estimator__tfidfvectorizer__strip_accents', 'estimator__tfidfvectorizer__sublinear_tf', 'estimator__tfidfvectorizer__token_pattern', 'estimator__tfidfvectorizer__tokenizer', 'estimator__tfidfvectorizer__use_idf', 'estimator__tfidfvectorizer__vocabulary', 'estimator__onevsrestclassifier__estimator__bootstrap', 'estimator__onevsrestclassifier__estimator__ccp_alpha', 'estimator__onevsrestclassifier__estimator__class_weight', 'estimator__onevsrestclassifier__estimator__criterion', 'estimator__onevsrestclassifier__estimator__max_depth', 'estimator__onevsrestclassifier__estimator__max_features', 'estimator__onevsrestclassifier__estimator__max_leaf_nodes', 'estimator__onevsrestclassifier__estimator__max_samples', 'estimator__onevsrestclassifier__estimator__min_impurity_decrease', 'estimator__onevsrestclassifier__estimator__min_samples_leaf', 'estimator__onevsrestclassifier__estimator__min_samples_split', 'estimator__onevsrestclassifier__estimator__min_weight_fraction_leaf', 'estimator__onevsrestclassifier__estimator__n_estimators', 'estimator__onevsrestclassifier__estimator__n_jobs', 'estimator__onevsrestclassifier__estimator__oob_score', 'estimator__onevsrestclassifier__estimator__random_state', 'estimator__onevsrestclassifier__estimator__replacement', 'estimator__onevsrestclassifier__estimator__sampling_strategy', 'estimator__onevsrestclassifier__estimator__verbose', 'estimator__onevsrestclassifier__estimator__warm_start', 'estimator__onevsrestclassifier__estimator', 'estimator__onevsrestclassifier__n_jobs', 'estimator', 'iid', 'n_jobs', 'param_grid', 'pre_dispatch', 'refit', 'return_train_score', 'scoring', 'verbose'])"
      ]
     },
     "execution_count": 7,
     "metadata": {},
     "output_type": "execute_result"
    }
   ],
   "source": [
    "# with gridsearch \n",
    "pipe = make_pipeline(\n",
    "                    TfidfVectorizer(stop_words='english',\n",
    "                                   strip_accents='unicode',\n",
    "                                   token_pattern= r'\\w{1,}',\n",
    "                                   analyzer='word',\n",
    "                                   ngram_range=(1,1),\n",
    "                                   min_df=5),\n",
    "                       OneVsRestClassifier(BalancedRandomForestClassifier()))\n",
    "\n",
    "param_grid = {\n",
    "              'onevsrestclassifier__estimator__class_weight' : ['balanced_subsample',\n",
    "                                                                'balanced'],\n",
    "              'onevsrestclassifier__estimator__max_depth': [25, 50, 75],\n",
    "              'onevsrestclassifier__estimator__max_leaf_nodes' : [5, 10, 15],\n",
    "              'onevsrestclassifier__estimator__criterion' : ['entropy', 'gini'],\n",
    "              'onevsrestclassifier__estimator__sampling_strategy' : ['not majority',\n",
    "                                                                    'all']\n",
    "\n",
    "              }\n",
    "\n",
    "grid = GridSearchCV(pipe, param_grid, cv=3, scoring='roc_auc', n_jobs=-1, verbose=3)\n",
    "BalancedRandomForestClassifier.get_params(grid).keys()"
   ]
  },
  {
   "cell_type": "code",
   "execution_count": 8,
   "metadata": {
    "colab": {},
    "colab_type": "code",
    "id": "tFxgWYZ-bq8x"
   },
   "outputs": [
    {
     "name": "stdout",
     "output_type": "stream",
     "text": [
      "Fitting 3 folds for each of 72 candidates, totalling 216 fits\n"
     ]
    },
    {
     "name": "stderr",
     "output_type": "stream",
     "text": [
      "[Parallel(n_jobs=-1)]: Using backend LokyBackend with 12 concurrent workers.\n",
      "[Parallel(n_jobs=-1)]: Done   8 tasks      | elapsed:  2.3min\n",
      "[Parallel(n_jobs=-1)]: Done 104 tasks      | elapsed: 15.9min\n",
      "[Parallel(n_jobs=-1)]: Done 216 out of 216 | elapsed: 30.4min finished\n"
     ]
    }
   ],
   "source": [
    "grid2 = grid.fit(X_train, y_train)"
   ]
  },
  {
   "cell_type": "code",
   "execution_count": 9,
   "metadata": {
    "colab": {},
    "colab_type": "code",
    "id": "W56z8rjs_aHC"
   },
   "outputs": [
    {
     "data": {
      "text/plain": [
       "{'onevsrestclassifier__estimator__class_weight': 'balanced_subsample',\n",
       " 'onevsrestclassifier__estimator__criterion': 'entropy',\n",
       " 'onevsrestclassifier__estimator__max_depth': 25,\n",
       " 'onevsrestclassifier__estimator__max_leaf_nodes': 15,\n",
       " 'onevsrestclassifier__estimator__sampling_strategy': 'all'}"
      ]
     },
     "execution_count": 9,
     "metadata": {},
     "output_type": "execute_result"
    }
   ],
   "source": [
    "grid2.best_params_"
   ]
  },
  {
   "cell_type": "code",
   "execution_count": 10,
   "metadata": {
    "colab": {},
    "colab_type": "code",
    "id": "cnFm1qcG_aJv"
   },
   "outputs": [
    {
     "data": {
      "text/plain": [
       "0.94207910210815"
      ]
     },
     "execution_count": 10,
     "metadata": {},
     "output_type": "execute_result"
    }
   ],
   "source": [
    "grid.score(X_test, y_test)"
   ]
  },
  {
   "cell_type": "code",
   "execution_count": 11,
   "metadata": {
    "colab": {},
    "colab_type": "code",
    "id": "G1JzyLGz_aMg"
   },
   "outputs": [],
   "source": [
    "from sklearn.metrics import f1_score, recall_score \n",
    "\n",
    "y_pred = grid.predict(X_test)"
   ]
  },
  {
   "cell_type": "code",
   "execution_count": 12,
   "metadata": {
    "colab": {},
    "colab_type": "code",
    "id": "o_cG2yXW_aPI"
   },
   "outputs": [
    {
     "data": {
      "text/plain": [
       "0.28250906354743827"
      ]
     },
     "execution_count": 12,
     "metadata": {},
     "output_type": "execute_result"
    }
   ],
   "source": [
    "f1_score(y_test, y_pred, average = 'micro')"
   ]
  }
 ],
 "metadata": {
  "colab": {
   "machine_shape": "hm",
   "name": "Untitled4.ipynb",
   "provenance": []
  },
  "kernelspec": {
   "display_name": "Python (Lab21)",
   "language": "python",
   "name": "lab21"
  },
  "language_info": {
   "codemirror_mode": {
    "name": "ipython",
    "version": 3
   },
   "file_extension": ".py",
   "mimetype": "text/x-python",
   "name": "python",
   "nbconvert_exporter": "python",
   "pygments_lexer": "ipython3",
   "version": "3.7.6"
  }
 },
 "nbformat": 4,
 "nbformat_minor": 4
}
