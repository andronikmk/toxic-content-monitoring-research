{
 "cells": [
  {
   "cell_type": "code",
   "execution_count": 2,
   "metadata": {},
   "outputs": [],
   "source": [
    "req = {\n",
    "    \"Text\": \"Мне тридцать. Год назад рассталась с любимым человеком, возможно, он единственный кто искренне любил меня. Не знаю как пережить трудности, которые меня преследуют всю жизнь. Достигла какого-то придела, постоянно думаю, как покончить с собой. Моя мама повесилась, когда мне было три, наверно, только это мешает мне покончить с собой. У меня есть дочь, ей 10, я не хочу повторять, то что сделала моя мама, но постоянная депрессия не даёт мне жить нормально. У меня никого нет, не с кем поговорить. Выходные похожи на ад - одиночество меня съедает. Всё было иначе пару лет назад, я просыпалась рядом с родным человеком, он был тем с кем я была по-ностоящему счастлива. Я всё испортила, как всегда сама. Я сама виновата, в том что происходит в моей жизни, теперь я снова одна и весь мир обрушился на меня. У меня финансовые трудности, проблемы с жильём, не знаю смогу ли справится с эти когда-нибудь. Я приношу несчастье в жизни других людей, я приношу боль. Мне кажется моей дочери будет лучше без меня. Очень многое за то, чтобы меня не было в этом мире. Я знаю, что у меня проблемы, сомневаюсь, что с этим можно справится раз и навсегда. Мне всё тяжелее справляться с депрессией. Я не рассказываю о своих проблемах, могла бы поговорить с кем-то, наверно, но мне очень стыдно за моё состояние и мне кажется, что у меня нет достаточно близкого человека, с котором я бы могла поговорить об этом. Возможно, тот кто пережил это и справился с этим состоянием, подскажет как бороться и жить дальше. \",\n",
    "    \"SourceLanguageCode\": \"ru\",\n",
    "    \"TargetLanguageCode\": \"en\"\n",
    "}"
   ]
  },
  {
   "cell_type": "code",
   "execution_count": 3,
   "metadata": {},
   "outputs": [],
   "source": [
    "import boto3"
   ]
  },
  {
   "cell_type": "code",
   "execution_count": 4,
   "metadata": {},
   "outputs": [],
   "source": [
    "translate = boto3.client(service_name='translate')"
   ]
  },
  {
   "cell_type": "code",
   "execution_count": 90,
   "metadata": {},
   "outputs": [
    {
     "name": "stdout",
     "output_type": "stream",
     "text": [
      "TranslatedText: Hallo, Welt\n",
      "SourceLanguageCode: en\n",
      "TargetLanguageCode: de\n"
     ]
    }
   ],
   "source": [
    "result = translate.translate_text(Text=\"Hello, World\", \n",
    "            SourceLanguageCode=\"en\", TargetLanguageCode=\"de\")\n",
    "print('TranslatedText: ' + result.get('TranslatedText'))\n",
    "print('SourceLanguageCode: ' + result.get('SourceLanguageCode'))\n",
    "print('TargetLanguageCode: ' + result.get('TargetLanguageCode'))"
   ]
  },
  {
   "cell_type": "code",
   "execution_count": 8,
   "metadata": {},
   "outputs": [],
   "source": [
    "from pyexcel_ods import get_data\n",
    "import json"
   ]
  },
  {
   "cell_type": "code",
   "execution_count": 9,
   "metadata": {},
   "outputs": [],
   "source": []
  },
  {
   "cell_type": "code",
   "execution_count": 10,
   "metadata": {},
   "outputs": [],
   "source": [
    "def translateRussian(text):\n",
    "    result = translate.translate_text(Text=text, \n",
    "            SourceLanguageCode=\"ru\", TargetLanguageCode=\"en\")\n",
    "    \n",
    "    return result.get('TranslatedText')"
   ]
  },
  {
   "cell_type": "code",
   "execution_count": 23,
   "metadata": {},
   "outputs": [],
   "source": [
    "data = get_data(\"Depressive data.ods\")\n",
    "data = data.pop('Sheet1')"
   ]
  },
  {
   "cell_type": "code",
   "execution_count": 112,
   "metadata": {},
   "outputs": [
    {
     "data": {
      "text/plain": [
       "[66,\n",
       " 67,\n",
       " 72,\n",
       " 158,\n",
       " 225,\n",
       " 264,\n",
       " 273,\n",
       " 372,\n",
       " 381,\n",
       " 432,\n",
       " 532,\n",
       " 556,\n",
       " 582,\n",
       " 621,\n",
       " 651,\n",
       " 668,\n",
       " 669,\n",
       " 677,\n",
       " 728,\n",
       " 742,\n",
       " 749,\n",
       " 755,\n",
       " 762,\n",
       " 768,\n",
       " 819,\n",
       " 824,\n",
       " 825,\n",
       " 827,\n",
       " 838,\n",
       " 883,\n",
       " 890,\n",
       " 915,\n",
       " 969,\n",
       " 975,\n",
       " 981,\n",
       " 1042,\n",
       " 1043,\n",
       " 1046,\n",
       " 1083,\n",
       " 1088,\n",
       " 1090,\n",
       " 1137,\n",
       " 1199,\n",
       " 1215,\n",
       " 1275,\n",
       " 1305,\n",
       " 1379,\n",
       " 1385,\n",
       " 1438,\n",
       " 1460,\n",
       " 1467,\n",
       " 1506,\n",
       " 1514,\n",
       " 1576,\n",
       " 1581,\n",
       " 1663,\n",
       " 1776,\n",
       " 1778,\n",
       " 1799,\n",
       " 1823,\n",
       " 1839,\n",
       " 1846,\n",
       " 1858,\n",
       " 1874,\n",
       " 1889,\n",
       " 1892,\n",
       " 1940,\n",
       " 1950,\n",
       " 2022,\n",
       " 2034,\n",
       " 2041,\n",
       " 2047,\n",
       " 2066,\n",
       " 2068,\n",
       " 2078,\n",
       " 2133,\n",
       " 2156,\n",
       " 2209,\n",
       " 2230,\n",
       " 2237,\n",
       " 2241,\n",
       " 2258,\n",
       " 2310,\n",
       " 2417,\n",
       " 2424,\n",
       " 2449,\n",
       " 2458,\n",
       " 2520,\n",
       " 2532,\n",
       " 2565,\n",
       " 2569,\n",
       " 2600,\n",
       " 2704,\n",
       " 2769,\n",
       " 2836,\n",
       " 2840,\n",
       " 2888,\n",
       " 2895,\n",
       " 2917,\n",
       " 2934,\n",
       " 2952,\n",
       " 3030,\n",
       " 3036,\n",
       " 3057,\n",
       " 3097,\n",
       " 3156,\n",
       " 3173,\n",
       " 3249,\n",
       " 3250,\n",
       " 3251,\n",
       " 3252,\n",
       " 3278,\n",
       " 3280,\n",
       " 3288,\n",
       " 3353,\n",
       " 3355,\n",
       " 3367,\n",
       " 3487,\n",
       " 3489,\n",
       " 3511,\n",
       " 3542,\n",
       " 3552,\n",
       " 3648,\n",
       " 3656,\n",
       " 3667,\n",
       " 3690,\n",
       " 3730,\n",
       " 3751,\n",
       " 3759,\n",
       " 3792,\n",
       " 3804,\n",
       " 3825,\n",
       " 3835,\n",
       " 3852,\n",
       " 3860,\n",
       " 3886,\n",
       " 3887,\n",
       " 3895,\n",
       " 3921,\n",
       " 3945,\n",
       " 4008,\n",
       " 4024,\n",
       " 4029,\n",
       " 4083,\n",
       " 4104,\n",
       " 4124,\n",
       " 4155,\n",
       " 4171,\n",
       " 4194,\n",
       " 4228,\n",
       " 4258,\n",
       " 4275,\n",
       " 4281,\n",
       " 4381,\n",
       " 4384,\n",
       " 4405,\n",
       " 4426,\n",
       " 4450,\n",
       " 4457,\n",
       " 4466,\n",
       " 4479,\n",
       " 4488,\n",
       " 4525,\n",
       " 4535,\n",
       " 4566,\n",
       " 4578,\n",
       " 4591,\n",
       " 4608,\n",
       " 4616,\n",
       " 4657,\n",
       " 4664,\n",
       " 4709,\n",
       " 4737,\n",
       " 4738,\n",
       " 4779,\n",
       " 4788,\n",
       " 4796,\n",
       " 4805,\n",
       " 4812,\n",
       " 4826,\n",
       " 4829,\n",
       " 4832,\n",
       " 4846,\n",
       " 4853,\n",
       " 4857,\n",
       " 4858,\n",
       " 4898,\n",
       " 4962,\n",
       " 4969,\n",
       " 4975,\n",
       " 4986,\n",
       " 5040,\n",
       " 5077,\n",
       " 5104,\n",
       " 5109,\n",
       " 5195,\n",
       " 5235,\n",
       " 5266,\n",
       " 5276,\n",
       " 5290,\n",
       " 5337,\n",
       " 5361,\n",
       " 5365,\n",
       " 5366,\n",
       " 5391,\n",
       " 5408,\n",
       " 5444,\n",
       " 5460,\n",
       " 5462,\n",
       " 5465,\n",
       " 5467,\n",
       " 5469,\n",
       " 5491,\n",
       " 5522,\n",
       " 5533,\n",
       " 5545,\n",
       " 5550,\n",
       " 5559,\n",
       " 5564,\n",
       " 5606,\n",
       " 5616,\n",
       " 5656,\n",
       " 5668,\n",
       " 5672,\n",
       " 5689,\n",
       " 5720,\n",
       " 5770,\n",
       " 5860,\n",
       " 5870,\n",
       " 5895,\n",
       " 5930,\n",
       " 5949,\n",
       " 5959,\n",
       " 6000,\n",
       " 6019,\n",
       " 6071,\n",
       " 6119,\n",
       " 6120,\n",
       " 6122,\n",
       " 6158,\n",
       " 6182,\n",
       " 6185,\n",
       " 6193,\n",
       " 6249,\n",
       " 6268,\n",
       " 6341,\n",
       " 6345,\n",
       " 6361,\n",
       " 6364,\n",
       " 6372,\n",
       " 6391,\n",
       " 6408,\n",
       " 6452,\n",
       " 6471,\n",
       " 6495,\n",
       " 6508,\n",
       " 6570,\n",
       " 6672,\n",
       " 6694,\n",
       " 6698,\n",
       " 6709,\n",
       " 6715,\n",
       " 6718,\n",
       " 6728,\n",
       " 6753,\n",
       " 6814,\n",
       " 6826,\n",
       " 6843,\n",
       " 6859,\n",
       " 6913,\n",
       " 6915,\n",
       " 6935,\n",
       " 6982,\n",
       " 7058,\n",
       " 7061,\n",
       " 7074,\n",
       " 7131,\n",
       " 7242,\n",
       " 7294,\n",
       " 7321,\n",
       " 7324,\n",
       " 7372,\n",
       " 7486,\n",
       " 7563,\n",
       " 7636,\n",
       " 7650,\n",
       " 7659,\n",
       " 7752,\n",
       " 7783,\n",
       " 7794,\n",
       " 7796,\n",
       " 7849,\n",
       " 7876,\n",
       " 7879,\n",
       " 7962,\n",
       " 7970,\n",
       " 8034,\n",
       " 8040,\n",
       " 8152,\n",
       " 8199,\n",
       " 8210,\n",
       " 8218,\n",
       " 8230,\n",
       " 8240,\n",
       " 8315,\n",
       " 8338,\n",
       " 8377,\n",
       " 8440,\n",
       " 8444,\n",
       " 8472]"
      ]
     },
     "execution_count": 112,
     "metadata": {},
     "output_type": "execute_result"
    }
   ],
   "source": [
    "failed"
   ]
  },
  {
   "cell_type": "code",
   "execution_count": 113,
   "metadata": {},
   "outputs": [
    {
     "data": {
      "text/plain": [
       "0.03645343367826905"
      ]
     },
     "execution_count": 113,
     "metadata": {},
     "output_type": "execute_result"
    }
   ],
   "source": [
    "len(failed)/i"
   ]
  },
  {
   "cell_type": "code",
   "execution_count": 114,
   "metadata": {},
   "outputs": [
    {
     "data": {
      "text/plain": [
       "310"
      ]
     },
     "execution_count": 114,
     "metadata": {},
     "output_type": "execute_result"
    }
   ],
   "source": [
    "len(failed)"
   ]
  },
  {
   "cell_type": "code",
   "execution_count": 119,
   "metadata": {},
   "outputs": [
    {
     "data": {
      "text/plain": [
       "[\"Once upon a time, I was a kind romantic who sought to help anyone who asked. I never felt sorry for myself, I believed in humanity. However, all this was false, surrogate friendship and some incomprehensible relationship. The girl who swore that she loved, eventually changed and went to another. Another didn't appear - I hopeless, and simply, without enough wealth and own housing. Parents with schizophrenia (F20.2) No one has ever supported me and does not support me. So, giving a piece of myself to everyone, I lost my warmth already, I became indifferent, apathy. The former girl without any effort found a new one, which immediately married her and takes her to different countries of the world. Of course, I took any job to show that it wasn't worse, but I was often deceived - underpaid or not paid at all. I'm just a loser who lost the meaning of life. My situation is not saved even by appearance - it is terrible (simply freak), because I often envy those who are lucky with appearance, how they are loved and how everything is given easily. I do my favorite thing, but often visit the thoughts that nobody needs it, just like me, all this is vain, meaningless. It affects the emptiness inside me. Often surprised how many were lucky, how at them everything develops, and why nothing develops at me, why everything goes out somehow wrong - that will lose my documents, then will not pay it to me, it is my place will be closed, it is me used and abandoned, it is me that parents are like this. Sometimes I want everyone around to be in my place, feel it all on myself and understand what it feels like, but even deeper, I just want to stop it all, just to interrupt my existence.\",\n",
       " 1,\n",
       " 32]"
      ]
     },
     "execution_count": 119,
     "metadata": {},
     "output_type": "execute_result"
    }
   ],
   "source": [
    "data[1:8503][0]"
   ]
  },
  {
   "cell_type": "code",
   "execution_count": 120,
   "metadata": {},
   "outputs": [],
   "source": [
    "data2 = [ k[0] for j, k in enumerate(data[1:8503]) if j not in failed ]"
   ]
  },
  {
   "cell_type": "code",
   "execution_count": 122,
   "metadata": {},
   "outputs": [
    {
     "data": {
      "text/plain": [
       "8192"
      ]
     },
     "execution_count": 122,
     "metadata": {},
     "output_type": "execute_result"
    }
   ],
   "source": [
    "len(data2)"
   ]
  },
  {
   "cell_type": "code",
   "execution_count": 116,
   "metadata": {},
   "outputs": [
    {
     "data": {
      "text/plain": [
       "\"My mother is constantly complaining to me about everything shouting at me, even for no reason beats the belt, mostly on the back, constantly deprives me of everything, already three times tried to kill herself because of her and it didn't work out. I just hates. Dad protects and tries to convey to her that this case will not help, and she does not listen and continues.Always messes with younger, I do not even accept as a native daughter. I'm afraid of her since 9 years . Offends, humiliates. I have not felt a mother's love for a long time. School teacher ridicules and humiliates. I don't know how to move on. Please help me!\""
      ]
     },
     "execution_count": 116,
     "metadata": {},
     "output_type": "execute_result"
    }
   ],
   "source": [
    "data[8503][0]"
   ]
  },
  {
   "cell_type": "code",
   "execution_count": 110,
   "metadata": {},
   "outputs": [
    {
     "name": "stdout",
     "output_type": "stream",
     "text": [
      "1600\n",
      "1700\n",
      "1800\n",
      "1900\n",
      "2000\n",
      "2100\n",
      "2200\n",
      "2300\n",
      "2400\n",
      "2500\n",
      "2600\n",
      "2700\n",
      "2800\n",
      "2900\n",
      "3000\n",
      "3100\n",
      "3200\n",
      "3300\n",
      "3400\n",
      "3500\n",
      "3600\n",
      "3700\n",
      "3800\n",
      "3900\n",
      "4000\n",
      "4100\n",
      "4200\n",
      "4300\n",
      "4400\n",
      "4500\n",
      "4600\n",
      "4700\n",
      "4800\n",
      "4900\n",
      "5000\n",
      "5100\n",
      "5200\n",
      "5300\n",
      "5400\n",
      "5500\n",
      "5600\n",
      "5700\n",
      "5800\n",
      "5900\n",
      "6000\n",
      "6100\n",
      "6200\n",
      "6300\n",
      "6400\n",
      "6500\n",
      "6600\n",
      "6700\n",
      "6800\n",
      "6900\n",
      "7000\n",
      "7100\n",
      "7200\n",
      "7300\n",
      "7400\n",
      "7500\n",
      "7600\n",
      "7700\n",
      "7800\n",
      "7900\n",
      "8000\n",
      "8100\n",
      "8200\n",
      "8300\n",
      "8400\n",
      "8500\n"
     ]
    }
   ],
   "source": [
    "#failed = [66, 67]\n",
    "#i = 69\n",
    "l = 8504 # len(data)/10\n",
    "while i < l:\n",
    "    try:\n",
    "        data[i][0] = translateRussian(data[i][0])\n",
    "    except Exception:\n",
    "        failed.append(i)\n",
    "    if i % 100 == 0:\n",
    "        data1.update({\"Sheet1\": data})\n",
    "        save_data(\"Depressive translated data.ods\", data1)\n",
    "        print(i)\n",
    "    i += 1"
   ]
  },
  {
   "cell_type": "code",
   "execution_count": 111,
   "metadata": {},
   "outputs": [],
   "source": [
    "data1.update({\"Sheet1\": data})\n",
    "save_data(\"Depressive translated data.ods\", data1)"
   ]
  },
  {
   "cell_type": "code",
   "execution_count": 109,
   "metadata": {},
   "outputs": [
    {
     "data": {
      "text/plain": [
       "1592"
      ]
     },
     "execution_count": 109,
     "metadata": {},
     "output_type": "execute_result"
    }
   ],
   "source": [
    "i"
   ]
  },
  {
   "cell_type": "code",
   "execution_count": 38,
   "metadata": {},
   "outputs": [],
   "source": [
    "data1 = get_data(\"Depressive data.ods\")"
   ]
  },
  {
   "cell_type": "code",
   "execution_count": 40,
   "metadata": {},
   "outputs": [],
   "source": [
    "from pyexcel_ods import save_data"
   ]
  },
  {
   "cell_type": "code",
   "execution_count": 42,
   "metadata": {},
   "outputs": [
    {
     "data": {
      "text/plain": [
       "64042"
      ]
     },
     "execution_count": 42,
     "metadata": {},
     "output_type": "execute_result"
    }
   ],
   "source": [
    "len(data)"
   ]
  },
  {
   "cell_type": "code",
   "execution_count": 43,
   "metadata": {},
   "outputs": [
    {
     "data": {
      "text/plain": [
       "odict_keys(['Sheet1'])"
      ]
     },
     "execution_count": 43,
     "metadata": {},
     "output_type": "execute_result"
    }
   ],
   "source": [
    "data1.keys()"
   ]
  },
  {
   "cell_type": "code",
   "execution_count": 44,
   "metadata": {},
   "outputs": [],
   "source": [
    "data1.update({\"Sheet1\": data})\n",
    "save_data(\"Depressive translated data.ods\", data1)"
   ]
  },
  {
   "cell_type": "code",
   "execution_count": 52,
   "metadata": {},
   "outputs": [
    {
     "data": {
      "text/plain": [
       "2560.0"
      ]
     },
     "execution_count": 52,
     "metadata": {},
     "output_type": "execute_result"
    }
   ],
   "source": [
    "64000 * .04"
   ]
  },
  {
   "cell_type": "code",
   "execution_count": 65,
   "metadata": {},
   "outputs": [
    {
     "data": {
      "text/plain": [
       "[(0, 'a'), (1, 'b'), (2, 'c')]"
      ]
     },
     "execution_count": 65,
     "metadata": {},
     "output_type": "execute_result"
    }
   ],
   "source": [
    "list(enumerate(['a', 'b', 'c']))"
   ]
  },
  {
   "cell_type": "code",
   "execution_count": 88,
   "metadata": {},
   "outputs": [
    {
     "name": "stdout",
     "output_type": "stream",
     "text": [
      "8504\n",
      "100.000155\n"
     ]
    }
   ],
   "source": [
    "chars = 0\n",
    "for j, t in enumerate(data[i:8504]):\n",
    "    chars += len(str(t[0]))\n",
    "\n",
    "print(k)\n",
    "print(chars/1000000 * 15)"
   ]
  },
  {
   "cell_type": "code",
   "execution_count": 84,
   "metadata": {},
   "outputs": [
    {
     "data": {
      "text/plain": [
       "63972"
      ]
     },
     "execution_count": 84,
     "metadata": {},
     "output_type": "execute_result"
    }
   ],
   "source": [
    "j"
   ]
  },
  {
   "cell_type": "code",
   "execution_count": 78,
   "metadata": {},
   "outputs": [
    {
     "data": {
      "text/plain": [
       "6330"
      ]
     },
     "execution_count": 78,
     "metadata": {},
     "output_type": "execute_result"
    }
   ],
   "source": [
    "j"
   ]
  },
  {
   "cell_type": "code",
   "execution_count": 72,
   "metadata": {},
   "outputs": [
    {
     "data": {
      "text/plain": [
       "6331"
      ]
     },
     "execution_count": 72,
     "metadata": {},
     "output_type": "execute_result"
    }
   ],
   "source": [
    "len(data[i:6397])"
   ]
  },
  {
   "cell_type": "code",
   "execution_count": 62,
   "metadata": {},
   "outputs": [
    {
     "data": {
      "text/plain": [
       "1039.10304"
      ]
     },
     "execution_count": 62,
     "metadata": {},
     "output_type": "execute_result"
    }
   ],
   "source": [
    "69.273536 * 15"
   ]
  },
  {
   "cell_type": "code",
   "execution_count": null,
   "metadata": {},
   "outputs": [],
   "source": [
    "data[i:]"
   ]
  },
  {
   "cell_type": "code",
   "execution_count": 124,
   "metadata": {},
   "outputs": [],
   "source": [
    "import pandas as pd"
   ]
  },
  {
   "cell_type": "code",
   "execution_count": 125,
   "metadata": {},
   "outputs": [],
   "source": [
    "df = pd.read_csv(\"toxic-train.csv\")"
   ]
  },
  {
   "cell_type": "code",
   "execution_count": 126,
   "metadata": {},
   "outputs": [
    {
     "data": {
      "text/plain": [
       "159571"
      ]
     },
     "execution_count": 126,
     "metadata": {},
     "output_type": "execute_result"
    }
   ],
   "source": [
    "len(df)"
   ]
  },
  {
   "cell_type": "code",
   "execution_count": 127,
   "metadata": {},
   "outputs": [],
   "source": [
    "df['suicidality'] = [0] * len(df)"
   ]
  },
  {
   "cell_type": "code",
   "execution_count": 134,
   "metadata": {},
   "outputs": [],
   "source": [
    "df = df.drop('id', axis=1)"
   ]
  },
  {
   "cell_type": "code",
   "execution_count": 141,
   "metadata": {},
   "outputs": [
    {
     "data": {
      "text/plain": [
       "Index(['toxic', 'severe_toxic', 'obscene', 'threat', 'insult',\n",
       "       'identity_hate'],\n",
       "      dtype='object')"
      ]
     },
     "execution_count": 141,
     "metadata": {},
     "output_type": "execute_result"
    }
   ],
   "source": [
    "df.columns[1:-1]"
   ]
  },
  {
   "cell_type": "code",
   "execution_count": 130,
   "metadata": {},
   "outputs": [],
   "source": [
    "df2 = pd.DataFrame(data2, columns=[\"comment_text\"])"
   ]
  },
  {
   "cell_type": "code",
   "execution_count": 146,
   "metadata": {},
   "outputs": [],
   "source": [
    "res = pd.concat([df, df2])"
   ]
  },
  {
   "cell_type": "code",
   "execution_count": 149,
   "metadata": {},
   "outputs": [
    {
     "data": {
      "text/plain": [
       "167763"
      ]
     },
     "execution_count": 149,
     "metadata": {},
     "output_type": "execute_result"
    }
   ],
   "source": [
    "len(res)"
   ]
  },
  {
   "cell_type": "code",
   "execution_count": 150,
   "metadata": {},
   "outputs": [],
   "source": [
    "res.to_csv(\"toxic_suicide.csv\")"
   ]
  },
  {
   "cell_type": "code",
   "execution_count": 145,
   "metadata": {},
   "outputs": [
    {
     "data": {
      "text/html": [
       "<div>\n",
       "<style scoped>\n",
       "    .dataframe tbody tr th:only-of-type {\n",
       "        vertical-align: middle;\n",
       "    }\n",
       "\n",
       "    .dataframe tbody tr th {\n",
       "        vertical-align: top;\n",
       "    }\n",
       "\n",
       "    .dataframe thead th {\n",
       "        text-align: right;\n",
       "    }\n",
       "</style>\n",
       "<table border=\"1\" class=\"dataframe\">\n",
       "  <thead>\n",
       "    <tr style=\"text-align: right;\">\n",
       "      <th></th>\n",
       "      <th>comment_text</th>\n",
       "      <th>toxic</th>\n",
       "      <th>severe_toxic</th>\n",
       "      <th>obscene</th>\n",
       "      <th>threat</th>\n",
       "      <th>insult</th>\n",
       "      <th>identity_hate</th>\n",
       "      <th>suicidality</th>\n",
       "    </tr>\n",
       "  </thead>\n",
       "  <tbody>\n",
       "    <tr>\n",
       "      <th>0</th>\n",
       "      <td>Once upon a time, I was a kind romantic who so...</td>\n",
       "      <td>0</td>\n",
       "      <td>0</td>\n",
       "      <td>0</td>\n",
       "      <td>0</td>\n",
       "      <td>0</td>\n",
       "      <td>0</td>\n",
       "      <td>1</td>\n",
       "    </tr>\n",
       "    <tr>\n",
       "      <th>1</th>\n",
       "      <td>Hello! I wake up every day with the idea why d...</td>\n",
       "      <td>0</td>\n",
       "      <td>0</td>\n",
       "      <td>0</td>\n",
       "      <td>0</td>\n",
       "      <td>0</td>\n",
       "      <td>0</td>\n",
       "      <td>1</td>\n",
       "    </tr>\n",
       "    <tr>\n",
       "      <th>2</th>\n",
       "      <td>I'm having a problem with a girl. I can't bear...</td>\n",
       "      <td>0</td>\n",
       "      <td>0</td>\n",
       "      <td>0</td>\n",
       "      <td>0</td>\n",
       "      <td>0</td>\n",
       "      <td>0</td>\n",
       "      <td>1</td>\n",
       "    </tr>\n",
       "    <tr>\n",
       "      <th>3</th>\n",
       "      <td>My whole life is one hell in which I burn all ...</td>\n",
       "      <td>0</td>\n",
       "      <td>0</td>\n",
       "      <td>0</td>\n",
       "      <td>0</td>\n",
       "      <td>0</td>\n",
       "      <td>0</td>\n",
       "      <td>1</td>\n",
       "    </tr>\n",
       "    <tr>\n",
       "      <th>4</th>\n",
       "      <td>I want to sleep and not wake up. Every day the...</td>\n",
       "      <td>0</td>\n",
       "      <td>0</td>\n",
       "      <td>0</td>\n",
       "      <td>0</td>\n",
       "      <td>0</td>\n",
       "      <td>0</td>\n",
       "      <td>1</td>\n",
       "    </tr>\n",
       "  </tbody>\n",
       "</table>\n",
       "</div>"
      ],
      "text/plain": [
       "                                        comment_text  toxic  severe_toxic  \\\n",
       "0  Once upon a time, I was a kind romantic who so...      0             0   \n",
       "1  Hello! I wake up every day with the idea why d...      0             0   \n",
       "2  I'm having a problem with a girl. I can't bear...      0             0   \n",
       "3  My whole life is one hell in which I burn all ...      0             0   \n",
       "4  I want to sleep and not wake up. Every day the...      0             0   \n",
       "\n",
       "   obscene  threat  insult  identity_hate  suicidality  \n",
       "0        0       0       0              0            1  \n",
       "1        0       0       0              0            1  \n",
       "2        0       0       0              0            1  \n",
       "3        0       0       0              0            1  \n",
       "4        0       0       0              0            1  "
      ]
     },
     "execution_count": 145,
     "metadata": {},
     "output_type": "execute_result"
    }
   ],
   "source": [
    "df2.head()"
   ]
  }
 ],
 "metadata": {
  "kernelspec": {
   "display_name": "Python 3",
   "language": "python",
   "name": "python3"
  },
  "language_info": {
   "codemirror_mode": {
    "name": "ipython",
    "version": 3
   },
   "file_extension": ".py",
   "mimetype": "text/x-python",
   "name": "python",
   "nbconvert_exporter": "python",
   "pygments_lexer": "ipython3",
   "version": "3.7.6"
  }
 },
 "nbformat": 4,
 "nbformat_minor": 4
}
